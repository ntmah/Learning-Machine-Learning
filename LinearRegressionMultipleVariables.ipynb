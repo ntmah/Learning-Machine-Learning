{
    "cells": [
        {
            "cell_type": "code",
            "execution_count": 1,
            "source": [
                "import pandas as  pd\r\n",
                "import numpy as np\r\n",
                "from sklearn import linear_model\r\n",
                "import math"
            ],
            "outputs": [],
            "metadata": {}
        },
        {
            "cell_type": "code",
            "execution_count": 2,
            "source": [
                "df = pd.read_csv('homepricesLRMV.csv')\r\n",
                "df"
            ],
            "outputs": [
                {
                    "output_type": "execute_result",
                    "data": {
                        "text/plain": [
                            "   area  bedrooms  age   price\n",
                            "0  2600       3.0   20  550000\n",
                            "1  3000       4.0   15  565000\n",
                            "2  3200       NaN   18  610000\n",
                            "3  3600       3.0   30  595000\n",
                            "4  4000       5.0    8  760000\n",
                            "5  4100       6.0    8  810000"
                        ],
                        "text/html": [
                            "<div>\n",
                            "<style scoped>\n",
                            "    .dataframe tbody tr th:only-of-type {\n",
                            "        vertical-align: middle;\n",
                            "    }\n",
                            "\n",
                            "    .dataframe tbody tr th {\n",
                            "        vertical-align: top;\n",
                            "    }\n",
                            "\n",
                            "    .dataframe thead th {\n",
                            "        text-align: right;\n",
                            "    }\n",
                            "</style>\n",
                            "<table border=\"1\" class=\"dataframe\">\n",
                            "  <thead>\n",
                            "    <tr style=\"text-align: right;\">\n",
                            "      <th></th>\n",
                            "      <th>area</th>\n",
                            "      <th>bedrooms</th>\n",
                            "      <th>age</th>\n",
                            "      <th>price</th>\n",
                            "    </tr>\n",
                            "  </thead>\n",
                            "  <tbody>\n",
                            "    <tr>\n",
                            "      <th>0</th>\n",
                            "      <td>2600</td>\n",
                            "      <td>3.0</td>\n",
                            "      <td>20</td>\n",
                            "      <td>550000</td>\n",
                            "    </tr>\n",
                            "    <tr>\n",
                            "      <th>1</th>\n",
                            "      <td>3000</td>\n",
                            "      <td>4.0</td>\n",
                            "      <td>15</td>\n",
                            "      <td>565000</td>\n",
                            "    </tr>\n",
                            "    <tr>\n",
                            "      <th>2</th>\n",
                            "      <td>3200</td>\n",
                            "      <td>NaN</td>\n",
                            "      <td>18</td>\n",
                            "      <td>610000</td>\n",
                            "    </tr>\n",
                            "    <tr>\n",
                            "      <th>3</th>\n",
                            "      <td>3600</td>\n",
                            "      <td>3.0</td>\n",
                            "      <td>30</td>\n",
                            "      <td>595000</td>\n",
                            "    </tr>\n",
                            "    <tr>\n",
                            "      <th>4</th>\n",
                            "      <td>4000</td>\n",
                            "      <td>5.0</td>\n",
                            "      <td>8</td>\n",
                            "      <td>760000</td>\n",
                            "    </tr>\n",
                            "    <tr>\n",
                            "      <th>5</th>\n",
                            "      <td>4100</td>\n",
                            "      <td>6.0</td>\n",
                            "      <td>8</td>\n",
                            "      <td>810000</td>\n",
                            "    </tr>\n",
                            "  </tbody>\n",
                            "</table>\n",
                            "</div>"
                        ]
                    },
                    "metadata": {},
                    "execution_count": 2
                }
            ],
            "metadata": {}
        },
        {
            "cell_type": "code",
            "execution_count": 3,
            "source": [
                "median_bedroom = math.floor(df.bedrooms.median())\r\n",
                "median_bedroom"
            ],
            "outputs": [
                {
                    "output_type": "execute_result",
                    "data": {
                        "text/plain": [
                            "4"
                        ]
                    },
                    "metadata": {},
                    "execution_count": 3
                }
            ],
            "metadata": {}
        },
        {
            "cell_type": "code",
            "execution_count": 4,
            "source": [
                "df.bedrooms = df.bedrooms.fillna(median_bedroom)\r\n",
                "df"
            ],
            "outputs": [
                {
                    "output_type": "execute_result",
                    "data": {
                        "text/plain": [
                            "   area  bedrooms  age   price\n",
                            "0  2600       3.0   20  550000\n",
                            "1  3000       4.0   15  565000\n",
                            "2  3200       4.0   18  610000\n",
                            "3  3600       3.0   30  595000\n",
                            "4  4000       5.0    8  760000\n",
                            "5  4100       6.0    8  810000"
                        ],
                        "text/html": [
                            "<div>\n",
                            "<style scoped>\n",
                            "    .dataframe tbody tr th:only-of-type {\n",
                            "        vertical-align: middle;\n",
                            "    }\n",
                            "\n",
                            "    .dataframe tbody tr th {\n",
                            "        vertical-align: top;\n",
                            "    }\n",
                            "\n",
                            "    .dataframe thead th {\n",
                            "        text-align: right;\n",
                            "    }\n",
                            "</style>\n",
                            "<table border=\"1\" class=\"dataframe\">\n",
                            "  <thead>\n",
                            "    <tr style=\"text-align: right;\">\n",
                            "      <th></th>\n",
                            "      <th>area</th>\n",
                            "      <th>bedrooms</th>\n",
                            "      <th>age</th>\n",
                            "      <th>price</th>\n",
                            "    </tr>\n",
                            "  </thead>\n",
                            "  <tbody>\n",
                            "    <tr>\n",
                            "      <th>0</th>\n",
                            "      <td>2600</td>\n",
                            "      <td>3.0</td>\n",
                            "      <td>20</td>\n",
                            "      <td>550000</td>\n",
                            "    </tr>\n",
                            "    <tr>\n",
                            "      <th>1</th>\n",
                            "      <td>3000</td>\n",
                            "      <td>4.0</td>\n",
                            "      <td>15</td>\n",
                            "      <td>565000</td>\n",
                            "    </tr>\n",
                            "    <tr>\n",
                            "      <th>2</th>\n",
                            "      <td>3200</td>\n",
                            "      <td>4.0</td>\n",
                            "      <td>18</td>\n",
                            "      <td>610000</td>\n",
                            "    </tr>\n",
                            "    <tr>\n",
                            "      <th>3</th>\n",
                            "      <td>3600</td>\n",
                            "      <td>3.0</td>\n",
                            "      <td>30</td>\n",
                            "      <td>595000</td>\n",
                            "    </tr>\n",
                            "    <tr>\n",
                            "      <th>4</th>\n",
                            "      <td>4000</td>\n",
                            "      <td>5.0</td>\n",
                            "      <td>8</td>\n",
                            "      <td>760000</td>\n",
                            "    </tr>\n",
                            "    <tr>\n",
                            "      <th>5</th>\n",
                            "      <td>4100</td>\n",
                            "      <td>6.0</td>\n",
                            "      <td>8</td>\n",
                            "      <td>810000</td>\n",
                            "    </tr>\n",
                            "  </tbody>\n",
                            "</table>\n",
                            "</div>"
                        ]
                    },
                    "metadata": {},
                    "execution_count": 4
                }
            ],
            "metadata": {}
        },
        {
            "cell_type": "code",
            "execution_count": 5,
            "source": [
                "reg = linear_model.LinearRegression()\r\n",
                "reg.fit(df[['area', 'bedrooms', 'age']], df.price)"
            ],
            "outputs": [
                {
                    "output_type": "execute_result",
                    "data": {
                        "text/plain": [
                            "LinearRegression()"
                        ]
                    },
                    "metadata": {},
                    "execution_count": 5
                }
            ],
            "metadata": {}
        },
        {
            "cell_type": "code",
            "execution_count": 6,
            "source": [
                "reg.coef_"
            ],
            "outputs": [
                {
                    "output_type": "execute_result",
                    "data": {
                        "text/plain": [
                            "array([  112.06244194, 23388.88007794, -3231.71790863])"
                        ]
                    },
                    "metadata": {},
                    "execution_count": 6
                }
            ],
            "metadata": {}
        },
        {
            "cell_type": "code",
            "execution_count": 7,
            "source": [
                "reg.intercept_"
            ],
            "outputs": [
                {
                    "output_type": "execute_result",
                    "data": {
                        "text/plain": [
                            "221323.00186540437"
                        ]
                    },
                    "metadata": {},
                    "execution_count": 7
                }
            ],
            "metadata": {}
        },
        {
            "cell_type": "code",
            "execution_count": 8,
            "source": [
                "reg.predict([[3000, 3, 40]])"
            ],
            "outputs": [
                {
                    "output_type": "execute_result",
                    "data": {
                        "text/plain": [
                            "array([498408.25158031])"
                        ]
                    },
                    "metadata": {},
                    "execution_count": 8
                }
            ],
            "metadata": {}
        },
        {
            "cell_type": "code",
            "execution_count": 9,
            "source": [
                "112.06244194*3000 + 23388.88007794*3 + -3231.71790863*40 + 221323.00186540437"
            ],
            "outputs": [
                {
                    "output_type": "execute_result",
                    "data": {
                        "text/plain": [
                            "498408.2515740244"
                        ]
                    },
                    "metadata": {},
                    "execution_count": 9
                }
            ],
            "metadata": {}
        },
        {
            "cell_type": "code",
            "execution_count": 10,
            "source": [
                "reg.predict([[2500, 4, 5]])"
            ],
            "outputs": [
                {
                    "output_type": "execute_result",
                    "data": {
                        "text/plain": [
                            "array([578876.03748933])"
                        ]
                    },
                    "metadata": {},
                    "execution_count": 10
                }
            ],
            "metadata": {}
        },
        {
            "cell_type": "code",
            "execution_count": null,
            "source": [],
            "outputs": [],
            "metadata": {}
        }
    ],
    "metadata": {
        "orig_nbformat": 4,
        "language_info": {
            "name": "python",
            "version": "3.9.5",
            "mimetype": "text/x-python",
            "codemirror_mode": {
                "name": "ipython",
                "version": 3
            },
            "pygments_lexer": "ipython3",
            "nbconvert_exporter": "python",
            "file_extension": ".py"
        },
        "kernelspec": {
            "name": "python3",
            "display_name": "Python 3.9.5 64-bit"
        },
        "interpreter": {
            "hash": "c132167031ff52927f6cb47306ba34b718804412d04cc99443e2b7a8f68027ff"
        }
    },
    "nbformat": 4,
    "nbformat_minor": 2
}